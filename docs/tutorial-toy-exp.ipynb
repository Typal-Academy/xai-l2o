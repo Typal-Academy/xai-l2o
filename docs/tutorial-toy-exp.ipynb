{
  "cells": [
    {
      "attachments": {},
      "cell_type": "markdown",
      "metadata": {
        "id": "ejeAoDUTX0RU"
      },
      "source": [
        "# Training Toy Experiment\n",
        "\n",
        "This is a test notebook.\n",
        "$$ \\int_0^t f(\\tau) \\ \\text{d}\\tau = 7.$$"
      ]
    },
    {
      "cell_type": "code",
      "execution_count": null,
      "metadata": {
        "id": "5c4pQWZcXzei"
      },
      "outputs": [],
      "source": [
        "def func(x):\n",
        "    sum = 0\n",
        "    for i in range(3):\n",
        "        sum += i * x\n",
        "    return sum"
      ]
    }
  ],
  "metadata": {
    "colab": {
      "provenance": []
    },
    "kernelspec": {
      "display_name": "Python 3",
      "language": "python",
      "name": "python3"
    },
    "language_info": {
      "name": "python",
      "version": "3.8.5"
    },
    "vscode": {
      "interpreter": {
        "hash": "ffde0a50f840762247d315ede7f5ba1a4f2c4918fd6179a6eeec16d20d9d21d6"
      }
    }
  },
  "nbformat": 4,
  "nbformat_minor": 0
}
